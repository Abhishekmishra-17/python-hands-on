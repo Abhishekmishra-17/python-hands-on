{
 "cells": [
  {
   "cell_type": "code",
   "execution_count": null,
   "id": "486ba438",
   "metadata": {},
   "outputs": [],
   "source": [
    " ** \n",
    "*  *\n",
    "*  *\n",
    "*  *\n",
    " **"
   ]
  },
  {
   "cell_type": "code",
   "execution_count": null,
   "id": "ca70cd8e",
   "metadata": {},
   "outputs": [],
   "source": [
    "for i in range(5):\n",
    "    for j in range(4):\n",
    "        if(((j==0 or j==3)and (i in range(1,4)))or((i==0 or i==4)and (j==1 or j==2))):\n",
    "            print(\"*\",end=\" \")\n",
    "        else:\n",
    "            print(end=\" \")\n",
    "        \n",
    "    print(end=\"\\n\")"
   ]
  },
  {
   "cell_type": "code",
   "execution_count": null,
   "id": "6f2fd3f7",
   "metadata": {
    "scrolled": true
   },
   "outputs": [],
   "source": [
    "  *0\n",
    "* *1\n",
    "  *2\n",
    "  *3\n",
    "*****4\n",
    "01234"
   ]
  },
  {
   "cell_type": "code",
   "execution_count": null,
   "id": "b7358bac",
   "metadata": {},
   "outputs": [],
   "source": [
    "for i in range(5):\n",
    "    for j in range(5):\n",
    "        if((j==2)):\n",
    "            print(\"*\",end=\"\")\n",
    "        elif(i==4):\n",
    "            print(\"*\",end=\"\")\n",
    "        elif(i==1 and j==0):\n",
    "            print(\"*\",end=\"\")\n",
    "        else:\n",
    "            print(end=\" \")\n",
    "    print()"
   ]
  },
  {
   "cell_type": "code",
   "execution_count": null,
   "id": "2cdc22c3",
   "metadata": {},
   "outputs": [],
   "source": [
    "for i in range(5):\n",
    "    for j in range(5):\n",
    "        if((j==2 or i==4)or(i==1 and j==0)):\n",
    "            print(\"*\",end=\"\")\n",
    "        else:\n",
    "            print(end=\" \")\n",
    "    print()"
   ]
  },
  {
   "cell_type": "code",
   "execution_count": null,
   "id": "bbcea78b",
   "metadata": {},
   "outputs": [],
   "source": [
    "    *\n",
    "   ***\n",
    "  *****\n",
    " *******"
   ]
  },
  {
   "cell_type": "code",
   "execution_count": null,
   "id": "6d32ada0",
   "metadata": {},
   "outputs": [],
   "source": [
    "for i in range(4):\n",
    "    for j in range(7):\n",
    "        if(i==3 or (i==2 and j in range(1,6)) or(i==1 and j in range(2,5))or (i==0 and j==3)):\n",
    "            print(\"*\",end=\"\")\n",
    "        else:\n",
    "            print(end=\" \")\n",
    "    print()"
   ]
  },
  {
   "cell_type": "code",
   "execution_count": null,
   "id": "5100a053",
   "metadata": {},
   "outputs": [],
   "source": [
    "n=int(input())\n",
    "for i in range(n):\n",
    "    for j in range(n+3):\n",
    "        if( n%2!=0 and (j in range(n-i,i+4))):\n",
    "            print(\"*\",end=\"\")\n",
    "        elif(n%2==0 and (j in range(n-i+1,i+4))):\n",
    "            print(\"*\",end=\"\")\n",
    "        else:\n",
    "            print(end=\" \")\n",
    "    print()"
   ]
  },
  {
   "cell_type": "code",
   "execution_count": null,
   "id": "9fd64e5f",
   "metadata": {},
   "outputs": [],
   "source": [
    "for i in [for x in range(10)]:\n",
    "    print(i)"
   ]
  },
  {
   "cell_type": "markdown",
   "id": "0b25d7a9",
   "metadata": {},
   "source": [
    " "
   ]
  },
  {
   "cell_type": "code",
   "execution_count": null,
   "id": "c81c50e4",
   "metadata": {},
   "outputs": [],
   "source": [
    "n=int(input())\n",
    "for i in range(n):\n",
    "    for j in range(n+3):\n",
    "        if(j in range(3,i+4)):\n",
    "            print(\"*\",end=\" \")\n",
    "        else:\n",
    "            print(end=\" \")\n",
    "    print()"
   ]
  },
  {
   "cell_type": "code",
   "execution_count": null,
   "id": "7951e1b9",
   "metadata": {},
   "outputs": [],
   "source": [
    "     *\n",
    "    * *\n",
    "   * * *\n",
    "  * * * *\n",
    " * * * * *"
   ]
  },
  {
   "cell_type": "code",
   "execution_count": 4,
   "id": "5689caa2",
   "metadata": {},
   "outputs": [
    {
     "name": "stdout",
     "output_type": "stream",
     "text": [
      "    *    \n",
      "   * *   \n",
      "  * * *  \n",
      " * * * * \n",
      "* * * * *\n"
     ]
    }
   ],
   "source": [
    "for i in range(5):\n",
    "    for j in range(9):\n",
    "        if(j==4 and i in range(0,5,2) or \n",
    "           ((j==3 or j==5) and i in range(1,5,2))or \n",
    "           ((j==2 or j==6)and i in range(2,5,2))or \n",
    "           ((j==1 or j==7)and i in range(3,5,2))or \n",
    "           ((j==0 or j==8)and i in range(4,5,2))):\n",
    "            print(\"*\",end=\"\")\n",
    "        else:\n",
    "            print(end= \" \")\n",
    "    print()"
   ]
  },
  {
   "cell_type": "code",
   "execution_count": 7,
   "id": "e6c2eeb1",
   "metadata": {
    "scrolled": true
   },
   "outputs": [
    {
     "name": "stdout",
     "output_type": "stream",
     "text": [
      "10\n",
      "            * \n",
      "           * * \n",
      "          * * * \n",
      "         * * * * \n",
      "        * * * * * \n",
      "       * * * * * * \n",
      "      * * * * * * * \n",
      "     * * * * * * * * \n",
      "    * * * * * * * * * \n",
      "   * * * * * * * * * * \n"
     ]
    }
   ],
   "source": [
    "n=int(input())\n",
    "for i in range(n):\n",
    "    for j in range(-12,-i):\n",
    "        print(\" \",end=\"\")\n",
    "    for a in range(i+1):\n",
    "        print(\"* \",end=\"\")\n",
    "    print()"
   ]
  },
  {
   "cell_type": "code",
   "execution_count": 15,
   "id": "2b59783c",
   "metadata": {},
   "outputs": [
    {
     "name": "stdout",
     "output_type": "stream",
     "text": [
      "A  \n",
      "AB   \n",
      "ABC    \n",
      "ABCD     \n",
      "ABCDE      \n"
     ]
    }
   ],
   "source": [
    "for i in range(65,70):\n",
    "    for j in range(65,i+1):\n",
    "        print(chr(j),end=\"\")\n",
    "    for j in range(i+1,65,-1):\n",
    "        print(\" \",end=\"\")\n",
    "    else:\n",
    "        print(end= \" \")\n",
    "    print()\n",
    "        \n",
    "    "
   ]
  },
  {
   "cell_type": "code",
   "execution_count": 45,
   "id": "dd137208",
   "metadata": {},
   "outputs": [
    {
     "name": "stdout",
     "output_type": "stream",
     "text": [
      "ABCDE \n",
      "ABCD \n",
      "ABC \n",
      "AB \n",
      "A \n",
      "A  \n",
      "AB   \n",
      "ABC    \n",
      "ABCD     \n",
      "ABCDE      \n"
     ]
    }
   ],
   "source": [
    "a=65\n",
    "for i in range(65,70):\n",
    "    a=65\n",
    "    for j in range(70,i,-1):\n",
    "        print(chr(a),end=\"\")\n",
    "        a+=1\n",
    "    else:\n",
    "        print(end=\" \")\n",
    "    print()\n",
    "for i in range(65,70):\n",
    "    for j in range(65,i+1):\n",
    "        print(chr(j),end=\"\")\n",
    "    for j in range(i+1,65,-1):\n",
    "        print(\" \",end=\"\")\n",
    "    else:\n",
    "        print(end= \" \")\n",
    "    print()"
   ]
  },
  {
   "cell_type": "code",
   "execution_count": null,
   "id": "55cbe53e",
   "metadata": {},
   "outputs": [],
   "source": []
  }
 ],
 "metadata": {
  "kernelspec": {
   "display_name": "Python 3",
   "language": "python",
   "name": "python3"
  },
  "language_info": {
   "codemirror_mode": {
    "name": "ipython",
    "version": 3
   },
   "file_extension": ".py",
   "mimetype": "text/x-python",
   "name": "python",
   "nbconvert_exporter": "python",
   "pygments_lexer": "ipython3",
   "version": "3.6.8"
  }
 },
 "nbformat": 4,
 "nbformat_minor": 5
}
