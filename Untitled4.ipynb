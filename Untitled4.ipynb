{
 "cells": [
  {
   "cell_type": "code",
   "execution_count": 9,
   "id": "098488b9",
   "metadata": {},
   "outputs": [
    {
     "name": "stdout",
     "output_type": "stream",
     "text": [
      "I'm Durgesh. My name is khan 2\n"
     ]
    }
   ],
   "source": [
    "class durgesh:\n",
    "    x=\"I'm Durgesh\" #data member\n",
    "    z=\"My name is khan\"\n",
    "    l=[1,2,3]\n",
    "v=durgesh()\n",
    "print(v.x+\". \"+v.z,v.l[1])"
   ]
  },
  {
   "cell_type": "code",
   "execution_count": 15,
   "id": "d5e75258",
   "metadata": {},
   "outputs": [
    {
     "name": "stdout",
     "output_type": "stream",
     "text": [
      "akm is a boyakm\n",
      "akm is a boyakm\n"
     ]
    }
   ],
   "source": [
    "class akm:\n",
    "    def dk(f,p):\n",
    "        v=\"akm is a boy\"+p\n",
    "        print(v)\n",
    "        return v\n",
    "v=akm()\n",
    "print(v.dk(\"akm\"))"
   ]
  },
  {
   "cell_type": "code",
   "execution_count": 24,
   "id": "189c1cfe",
   "metadata": {},
   "outputs": [
    {
     "name": "stdout",
     "output_type": "stream",
     "text": [
      "4\n"
     ]
    }
   ],
   "source": [
    "class dk:\n",
    "    def __init__(self):\n",
    "        self.wings=4\n",
    "        print(self.wings)\n",
    "    def fun(self):\n",
    "        pass\n",
    "obj=dk()"
   ]
  },
  {
   "cell_type": "code",
   "execution_count": 4,
   "id": "b09c0bab",
   "metadata": {},
   "outputs": [],
   "source": [
    "# with parameter\n",
    "class dk:\n",
    "    def __init__(self,age):\n",
    "        self.age1=age\n",
    "    def fun(self,age3):\n",
    "        if(age3>=self.age1):\n",
    "            print(\"eligible\")\n",
    "        else:\n",
    "            print(\"not\")\n",
    "obj=dk(18)"
   ]
  },
  {
   "cell_type": "code",
   "execution_count": 6,
   "id": "39bfd0aa",
   "metadata": {},
   "outputs": [
    {
     "name": "stdout",
     "output_type": "stream",
     "text": [
      "not\n"
     ]
    }
   ],
   "source": [
    "obj.fun(15)"
   ]
  },
  {
   "cell_type": "code",
   "execution_count": 8,
   "id": "f76e86f3",
   "metadata": {},
   "outputs": [
    {
     "name": "stdout",
     "output_type": "stream",
     "text": [
      "not\n",
      "eligible\n"
     ]
    }
   ],
   "source": [
    "class dk:\n",
    "    def __init__(self,age):\n",
    "        self.age1=age# eligibility age\n",
    "    def fun(self,age3):#age3 user age\n",
    "        if(age3>=self.age1):\n",
    "            print(\"eligible\")\n",
    "        else:\n",
    "            print(\"not\")\n",
    "obj=dk(18)\n",
    "obj.fun(16)\n",
    "obj1=dk(16)\n",
    "obj1.fun(16)"
   ]
  },
  {
   "cell_type": "code",
   "execution_count": 13,
   "id": "9e188f21",
   "metadata": {},
   "outputs": [
    {
     "name": "stdout",
     "output_type": "stream",
     "text": [
      "Before changing\n",
      "Abhishek is eligible for voting because its age is 34\n",
      "After changing\n",
      "Durgesh is eligible for voting because its age is 23\n"
     ]
    }
   ],
   "source": [
    "class dk:\n",
    "    def __init__(self,name,age):\n",
    "        self.name=name\n",
    "        self.age1=age# eligibility age\n",
    "    def fun(self,age3):#age3 user age\n",
    "        if(age3>=self.age1):\n",
    "            print(self.name,\"is eligible for voting because its age is\",age3)\n",
    "        else:\n",
    "            print(\"not\")\n",
    "print(\"Before changing\")\n",
    "obj=dk(\"Abhishek\",23)\n",
    "obj.fun(34)\n",
    "print(\"After changing\")\n",
    "obj.age1=20\n",
    "obj.name=\"Durgesh\"\n",
    "obj.fun(23)"
   ]
  },
  {
   "cell_type": "code",
   "execution_count": 17,
   "id": "ca3ca06a",
   "metadata": {},
   "outputs": [
    {
     "name": "stdout",
     "output_type": "stream",
     "text": [
      "Before changing\n",
      "Abhishek is eligible for voting because its age is 34\n",
      "After changing\n",
      "Durgesh is eligible for voting because its age is 23\n"
     ]
    },
    {
     "ename": "AttributeError",
     "evalue": "'dk' object has no attribute 'name'",
     "output_type": "error",
     "traceback": [
      "\u001b[1;31m---------------------------------------------------------------------------\u001b[0m",
      "\u001b[1;31mAttributeError\u001b[0m                            Traceback (most recent call last)",
      "\u001b[1;32m<ipython-input-17-4ddf3a33223c>\u001b[0m in \u001b[0;36m<module>\u001b[1;34m\u001b[0m\n\u001b[0;32m     17\u001b[0m \u001b[1;32mdel\u001b[0m \u001b[0mobj\u001b[0m\u001b[1;33m.\u001b[0m\u001b[0mname\u001b[0m\u001b[1;33m\u001b[0m\u001b[1;33m\u001b[0m\u001b[0m\n\u001b[0;32m     18\u001b[0m \u001b[1;31m#print(obj.age1)\u001b[0m\u001b[1;33m\u001b[0m\u001b[1;33m\u001b[0m\u001b[1;33m\u001b[0m\u001b[0m\n\u001b[1;32m---> 19\u001b[1;33m \u001b[0mprint\u001b[0m\u001b[1;33m(\u001b[0m\u001b[0mobj\u001b[0m\u001b[1;33m.\u001b[0m\u001b[0mname\u001b[0m\u001b[1;33m)\u001b[0m\u001b[1;33m\u001b[0m\u001b[1;33m\u001b[0m\u001b[0m\n\u001b[0m",
      "\u001b[1;31mAttributeError\u001b[0m: 'dk' object has no attribute 'name'"
     ]
    }
   ],
   "source": [
    "#####delete the object properties########\n",
    "\n",
    "class dk:\n",
    "    def __init__(self,name,age):\n",
    "        self.name=name\n",
    "        self.age1=age# eligibility age\n",
    "    def fun(self,age3):#age3 user age\n",
    "        if(age3>=self.age1):\n",
    "            print(self.name,\"is eligible for voting because its age is\",age3)\n",
    "        else:\n",
    "            print(\"not\")\n",
    "print(\"Before changing\")\n",
    "obj=dk(\"Abhishek\",23)\n",
    "obj.fun(34)\n",
    "print(\"After changing\")\n",
    "obj.age1=20\n",
    "obj.name=\"Durgesh\"\n",
    "obj.fun(23)\n",
    "del obj.name\n",
    "#print(obj.age1)\n",
    "print(obj.name)"
   ]
  },
  {
   "cell_type": "code",
   "execution_count": 18,
   "id": "9ce58434",
   "metadata": {},
   "outputs": [
    {
     "name": "stdout",
     "output_type": "stream",
     "text": [
      "Before changing\n",
      "Abhishek is eligible for voting because its age is 34\n",
      "After changing\n",
      "Durgesh is eligible for voting because its age is 23\n"
     ]
    },
    {
     "ename": "NameError",
     "evalue": "name 'obj' is not defined",
     "output_type": "error",
     "traceback": [
      "\u001b[1;31m---------------------------------------------------------------------------\u001b[0m",
      "\u001b[1;31mNameError\u001b[0m                                 Traceback (most recent call last)",
      "\u001b[1;32m<ipython-input-18-b77e91feb93c>\u001b[0m in \u001b[0;36m<module>\u001b[1;34m\u001b[0m\n\u001b[0;32m     19\u001b[0m \u001b[1;32mdel\u001b[0m \u001b[0mobj\u001b[0m\u001b[1;33m\u001b[0m\u001b[1;33m\u001b[0m\u001b[0m\n\u001b[0;32m     20\u001b[0m \u001b[1;31m#print(obj.age1)\u001b[0m\u001b[1;33m\u001b[0m\u001b[1;33m\u001b[0m\u001b[1;33m\u001b[0m\u001b[0m\n\u001b[1;32m---> 21\u001b[1;33m \u001b[0mprint\u001b[0m\u001b[1;33m(\u001b[0m\u001b[0mobj\u001b[0m\u001b[1;33m.\u001b[0m\u001b[0mname\u001b[0m\u001b[1;33m)\u001b[0m\u001b[1;33m\u001b[0m\u001b[1;33m\u001b[0m\u001b[0m\n\u001b[0m",
      "\u001b[1;31mNameError\u001b[0m: name 'obj' is not defined"
     ]
    }
   ],
   "source": [
    "#####delete the object########\n",
    "\n",
    "class dk:\n",
    "    def __init__(self,name,age):\n",
    "        self.name=name\n",
    "        self.age1=age# eligibility age\n",
    "    def fun(self,age3):#age3 user age\n",
    "        if(age3>=self.age1):\n",
    "            print(self.name,\"is eligible for voting because its age is\",age3)\n",
    "        else:\n",
    "            print(\"not\")\n",
    "print(\"Before changing\")\n",
    "obj=dk(\"Abhishek\",23)\n",
    "obj.fun(34)\n",
    "print(\"After changing\")\n",
    "obj.age1=20\n",
    "obj.name=\"Durgesh\"\n",
    "obj.fun(23)\n",
    "del obj\n",
    "#print(obj.age1)\n",
    "print(obj.name)"
   ]
  },
  {
   "cell_type": "code",
   "execution_count": 19,
   "id": "90e11910",
   "metadata": {},
   "outputs": [],
   "source": [
    "class dk:\n",
    "    pass"
   ]
  },
  {
   "cell_type": "code",
   "execution_count": null,
   "id": "37a514d7",
   "metadata": {},
   "outputs": [],
   "source": []
  }
 ],
 "metadata": {
  "kernelspec": {
   "display_name": "Python 3",
   "language": "python",
   "name": "python3"
  },
  "language_info": {
   "codemirror_mode": {
    "name": "ipython",
    "version": 3
   },
   "file_extension": ".py",
   "mimetype": "text/x-python",
   "name": "python",
   "nbconvert_exporter": "python",
   "pygments_lexer": "ipython3",
   "version": "3.6.8"
  }
 },
 "nbformat": 4,
 "nbformat_minor": 5
}
