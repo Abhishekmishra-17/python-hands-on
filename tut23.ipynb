{
 "cells": [
  {
   "cell_type": "code",
   "execution_count": 20,
   "id": "e1b29afb",
   "metadata": {},
   "outputs": [
    {
     "name": "stdout",
     "output_type": "stream",
     "text": [
      "0\n",
      "9 4\n"
     ]
    }
   ],
   "source": [
    "### Arbitrary keyword Arguments, **kwargs\n",
    "def fun2(n1,n2,n3=0):\n",
    "    print(n1)\n",
    "    print(n2,end=\" \")\n",
    "    print(n3)\n",
    "fun2(n1=0,n2=9,n3=4)"
   ]
  },
  {
   "cell_type": "code",
   "execution_count": 12,
   "id": "2f8bd6df",
   "metadata": {},
   "outputs": [
    {
     "data": {
      "text/plain": [
       "['$', '@']"
      ]
     },
     "execution_count": 12,
     "metadata": {},
     "output_type": "execute_result"
    }
   ],
   "source": [
    "l=[\"$\",\"@\"]\n",
    "l"
   ]
  },
  {
   "cell_type": "code",
   "execution_count": 17,
   "id": "0df38bb4",
   "metadata": {},
   "outputs": [
    {
     "name": "stdout",
     "output_type": "stream",
     "text": [
      "0\n",
      "9 4\n"
     ]
    }
   ],
   "source": [
    "### Arbitrary keyword Arguments, **kwargs\n",
    "def fun2(**k):\n",
    "    print(k['n1'])\n",
    "    print(k['n2'],end=\" \")\n",
    "    print(k['n3'])\n",
    "fun2(n1=0,n2=9,n3=4)"
   ]
  },
  {
   "cell_type": "code",
   "execution_count": 18,
   "id": "f54322c9",
   "metadata": {},
   "outputs": [
    {
     "name": "stdout",
     "output_type": "stream",
     "text": [
      "Faiza ke dost ka naam hai:DURGESH and ANUKRITI3\n"
     ]
    }
   ],
   "source": [
    "def faiza(*faiza):#*args arbitrary arguments\n",
    "    return (\"Faiza ke dost ka naam hai:\"+faiza[1]+\" and \"+faiza[0]+str(faiza[4]))\n",
    "v=faiza(\"ANUKRITI\",\"DURGESH\",1,2,3,4,5)\n",
    "print(v)"
   ]
  },
  {
   "cell_type": "code",
   "execution_count": 21,
   "id": "c51957d7",
   "metadata": {},
   "outputs": [],
   "source": [
    "########ana##########one-line function lambda function"
   ]
  },
  {
   "cell_type": "code",
   "execution_count": 23,
   "id": "ab29f523",
   "metadata": {},
   "outputs": [],
   "source": [
    "variables=lambda argu:expression"
   ]
  },
  {
   "cell_type": "code",
   "execution_count": 24,
   "id": "9a95323b",
   "metadata": {},
   "outputs": [
    {
     "data": {
      "text/plain": [
       "<function __main__.<lambda>(argu)>"
      ]
     },
     "execution_count": 24,
     "metadata": {},
     "output_type": "execute_result"
    }
   ],
   "source": [
    "variables"
   ]
  },
  {
   "cell_type": "code",
   "execution_count": 25,
   "id": "eec34393",
   "metadata": {},
   "outputs": [
    {
     "data": {
      "text/plain": [
       "20"
      ]
     },
     "execution_count": 25,
     "metadata": {},
     "output_type": "execute_result"
    }
   ],
   "source": [
    "def ad(a):\n",
    "    return a+10\n",
    "ad(10)"
   ]
  },
  {
   "cell_type": "code",
   "execution_count": 28,
   "id": "b49355c1",
   "metadata": {},
   "outputs": [],
   "source": [
    "w=lambda a:a+10"
   ]
  },
  {
   "cell_type": "code",
   "execution_count": 36,
   "id": "75599336",
   "metadata": {},
   "outputs": [
    {
     "data": {
      "text/plain": [
       "11"
      ]
     },
     "execution_count": 36,
     "metadata": {},
     "output_type": "execute_result"
    }
   ],
   "source": [
    "w(1)"
   ]
  },
  {
   "cell_type": "code",
   "execution_count": 37,
   "id": "4810398d",
   "metadata": {},
   "outputs": [
    {
     "data": {
      "text/plain": [
       "21"
      ]
     },
     "execution_count": 37,
     "metadata": {},
     "output_type": "execute_result"
    }
   ],
   "source": [
    "s=lambda a,c,b,d,f,g:a+c+b+d+f+g\n",
    "s(1,2,3,4,5,6)"
   ]
  },
  {
   "cell_type": "code",
   "execution_count": 44,
   "id": "94979ad8",
   "metadata": {},
   "outputs": [
    {
     "name": "stdout",
     "output_type": "stream",
     "text": [
      "0\n",
      "4\n",
      "8\n",
      "12\n",
      "16\n",
      "20\n",
      "24\n",
      "28\n",
      "32\n",
      "36\n"
     ]
    }
   ],
   "source": [
    "def faiza(n):\n",
    "    return lambda a:a*n\n",
    "x=faiza(4)\n",
    "\n",
    "for i in range(10):\n",
    "    print(x(i))"
   ]
  },
  {
   "cell_type": "code",
   "execution_count": 45,
   "id": "532f5c1a",
   "metadata": {},
   "outputs": [
    {
     "ename": "SyntaxError",
     "evalue": "invalid syntax (<ipython-input-45-207ff60b5a7f>, line 2)",
     "output_type": "error",
     "traceback": [
      "\u001b[1;36m  File \u001b[1;32m\"<ipython-input-45-207ff60b5a7f>\"\u001b[1;36m, line \u001b[1;32m2\u001b[0m\n\u001b[1;33m    2 3\u001b[0m\n\u001b[1;37m      ^\u001b[0m\n\u001b[1;31mSyntaxError\u001b[0m\u001b[1;31m:\u001b[0m invalid syntax\n"
     ]
    }
   ],
   "source": [
    "1\n",
    "2 3\n",
    "4 5 6"
   ]
  },
  {
   "cell_type": "code",
   "execution_count": 56,
   "id": "c59fed33",
   "metadata": {},
   "outputs": [
    {
     "name": "stdout",
     "output_type": "stream",
     "text": [
      "1 \n",
      "\n",
      "2 3 \n",
      "\n",
      "4 5 6 \n",
      "\n"
     ]
    }
   ],
   "source": [
    "z=1\n",
    "for i in range(3):\n",
    "    for j in range(i+1):\n",
    "        print(z,end=\" \")\n",
    "        z+=1\n",
    "    print(\"\\n\")"
   ]
  },
  {
   "cell_type": "code",
   "execution_count": 57,
   "id": "91665577",
   "metadata": {},
   "outputs": [
    {
     "data": {
      "text/plain": [
       "333"
      ]
     },
     "execution_count": 57,
     "metadata": {},
     "output_type": "execute_result"
    }
   ],
   "source": [
    "111\n",
    "222\n",
    "333"
   ]
  },
  {
   "cell_type": "code",
   "execution_count": 58,
   "id": "91f13549",
   "metadata": {},
   "outputs": [
    {
     "ename": "SyntaxError",
     "evalue": "invalid syntax (<ipython-input-58-d5b716a69718>, line 1)",
     "output_type": "error",
     "traceback": [
      "\u001b[1;36m  File \u001b[1;32m\"<ipython-input-58-d5b716a69718>\"\u001b[1;36m, line \u001b[1;32m1\u001b[0m\n\u001b[1;33m    1 2 3\u001b[0m\n\u001b[1;37m      ^\u001b[0m\n\u001b[1;31mSyntaxError\u001b[0m\u001b[1;31m:\u001b[0m invalid syntax\n"
     ]
    }
   ],
   "source": [
    "1 2 3\n",
    "1 2 3\n",
    "1 2 3"
   ]
  },
  {
   "cell_type": "code",
   "execution_count": 59,
   "id": "8dc783e4",
   "metadata": {},
   "outputs": [
    {
     "data": {
      "text/plain": [
       "4444"
      ]
     },
     "execution_count": 59,
     "metadata": {},
     "output_type": "execute_result"
    }
   ],
   "source": [
    "1\n",
    "22\n",
    "333\n",
    "4444"
   ]
  },
  {
   "cell_type": "code",
   "execution_count": 61,
   "id": "696eea5b",
   "metadata": {},
   "outputs": [
    {
     "ename": "IndentationError",
     "evalue": "unindent does not match any outer indentation level (<tokenize>, line 3)",
     "output_type": "error",
     "traceback": [
      "\u001b[1;36m  File \u001b[1;32m\"<tokenize>\"\u001b[1;36m, line \u001b[1;32m3\u001b[0m\n\u001b[1;33m    3   3\u001b[0m\n\u001b[1;37m    ^\u001b[0m\n\u001b[1;31mIndentationError\u001b[0m\u001b[1;31m:\u001b[0m unindent does not match any outer indentation level\n"
     ]
    }
   ],
   "source": [
    "   1\n",
    "  2 2\n",
    " 3   3\n",
    "4     4"
   ]
  },
  {
   "cell_type": "code",
   "execution_count": null,
   "id": "26b42ae3",
   "metadata": {},
   "outputs": [],
   "source": []
  }
 ],
 "metadata": {
  "kernelspec": {
   "display_name": "Python 3",
   "language": "python",
   "name": "python3"
  },
  "language_info": {
   "codemirror_mode": {
    "name": "ipython",
    "version": 3
   },
   "file_extension": ".py",
   "mimetype": "text/x-python",
   "name": "python",
   "nbconvert_exporter": "python",
   "pygments_lexer": "ipython3",
   "version": "3.6.8"
  }
 },
 "nbformat": 4,
 "nbformat_minor": 5
}
