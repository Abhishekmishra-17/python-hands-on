{
 "cells": [
  {
   "cell_type": "code",
   "execution_count": 1,
   "id": "a52911e6",
   "metadata": {},
   "outputs": [
    {
     "name": "stdout",
     "output_type": "stream",
     "text": [
      "       *       \n",
      "      * *      \n",
      "     * * *     \n",
      "    * * * *    \n",
      "   * * * * *   \n",
      "  * * * * * *  \n",
      " * * * * * * * \n",
      "  * * * * * *  \n",
      " * * * * * * * \n",
      "  * * * * * *  \n",
      " * * * * * * * \n",
      "  * * * * * *  \n",
      "               \n",
      "               \n",
      "               \n",
      "               \n"
     ]
    }
   ],
   "source": [
    "for i in range(16):\n",
    "    for j in range(15):\n",
    "        if(j==7 and i in range(0,12,2)):\n",
    "            print(\"*\", end=\"\")\n",
    "        elif((j==6 or j==8 )and i in range(1,12,2)):\n",
    "            print(\"*\", end=\"\")\n",
    "        elif ((j == 5 or j == 9) and i in range(2, 12, 2)):\n",
    "            print(\"*\", end=\"\")\n",
    "        elif ((j == 4 or j == 10) and i in range(3, 12, 2)):\n",
    "            print(\"*\", end=\"\")\n",
    "        elif ((j == 3 or j == 11) and i in range(4, 12, 2)):\n",
    "            print(\"*\", end=\"\")\n",
    "        elif ((j == 2 or j == 12) and i in range(5, 12, 2)):\n",
    "            print(\"*\", end=\"\")\n",
    "        elif ((j == 1 or j == 13) and i in range(6, 12, 2)):\n",
    "            print(\"*\", end=\"\")\n",
    "        else:\n",
    "            print(end=\" \")\n",
    "    print()"
   ]
  },
  {
   "cell_type": "code",
   "execution_count": null,
   "id": "18074b3a",
   "metadata": {},
   "outputs": [],
   "source": []
  }
 ],
 "metadata": {
  "kernelspec": {
   "display_name": "Python 3",
   "language": "python",
   "name": "python3"
  },
  "language_info": {
   "codemirror_mode": {
    "name": "ipython",
    "version": 3
   },
   "file_extension": ".py",
   "mimetype": "text/x-python",
   "name": "python",
   "nbconvert_exporter": "python",
   "pygments_lexer": "ipython3",
   "version": "3.6.8"
  }
 },
 "nbformat": 4,
 "nbformat_minor": 5
}
