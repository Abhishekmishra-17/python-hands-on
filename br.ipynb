{
 "cells": [
  {
   "cell_type": "code",
   "execution_count": 23,
   "id": "b1bd5103",
   "metadata": {},
   "outputs": [
    {
     "name": "stdout",
     "output_type": "stream",
     "text": [
      "number of bricks:3\n"
     ]
    }
   ],
   "source": [
    "a=int(input(\"number of bricks:\"))"
   ]
  },
  {
   "cell_type": "code",
   "execution_count": 24,
   "id": "b28198fb",
   "metadata": {},
   "outputs": [],
   "source": [
    "akm=0\n",
    "ram=0\n",
    "i=0\n",
    "r=1"
   ]
  },
  {
   "cell_type": "code",
   "execution_count": 25,
   "id": "80ad745a",
   "metadata": {},
   "outputs": [
    {
     "name": "stdout",
     "output_type": "stream",
     "text": [
      "akm 1\n",
      "2\n"
     ]
    }
   ],
   "source": [
    "while(a>=1):\n",
    "    a=a-r\n",
    "    r=r+1\n",
    "    if(a<=0):\n",
    "        ram=ram+1\n",
    "        print(\"ram\",ram)\n",
    "    else:\n",
    "        for i in range(2*i+2):\n",
    "            a=a-1\n",
    "            if(a<=0):\n",
    "                akm=akm+1\n",
    "                print(\"akm\",akm)\n",
    "                break\n",
    "    i=i+1\n",
    "    print(i)"
   ]
  },
  {
   "cell_type": "code",
   "execution_count": 1,
   "id": "bc50655e",
   "metadata": {},
   "outputs": [
    {
     "data": {
      "text/plain": [
       "10"
      ]
     },
     "execution_count": 1,
     "metadata": {},
     "output_type": "execute_result"
    }
   ],
   "source": [
    "d=[1,2,3,4]\n",
    "sum(d)"
   ]
  },
  {
   "cell_type": "code",
   "execution_count": 3,
   "id": "ab23bea2",
   "metadata": {},
   "outputs": [
    {
     "data": {
      "text/plain": [
       "5"
      ]
     },
     "execution_count": 3,
     "metadata": {},
     "output_type": "execute_result"
    }
   ],
   "source": [
    "sum([2,3])"
   ]
  },
  {
   "cell_type": "code",
   "execution_count": 8,
   "id": "4bd5c8aa",
   "metadata": {},
   "outputs": [
    {
     "data": {
      "text/plain": [
       "3"
      ]
     },
     "execution_count": 8,
     "metadata": {},
     "output_type": "execute_result"
    }
   ],
   "source": [
    "sum((1,2))"
   ]
  },
  {
   "cell_type": "code",
   "execution_count": 9,
   "id": "190b8a08",
   "metadata": {},
   "outputs": [
    {
     "name": "stdout",
     "output_type": "stream",
     "text": [
      "10\n"
     ]
    }
   ],
   "source": [
    "res=0\n",
    "for i in d:\n",
    "    res+=i\n",
    "print(res)"
   ]
  },
  {
   "cell_type": "code",
   "execution_count": 21,
   "id": "61368294",
   "metadata": {},
   "outputs": [],
   "source": [
    "def faiza(dosto_ke_naam):\n",
    "    return (\"Faiza ke dost ka naam hai:\"+dosto_ke_naam)\n",
    "v=faiza(\"ANUKRITI\")"
   ]
  },
  {
   "cell_type": "code",
   "execution_count": 22,
   "id": "e86c539c",
   "metadata": {},
   "outputs": [
    {
     "name": "stdout",
     "output_type": "stream",
     "text": [
      "Faiza ke dost ka naam hai:ANUKRITI\n"
     ]
    }
   ],
   "source": [
    "print(v)"
   ]
  },
  {
   "cell_type": "code",
   "execution_count": 40,
   "id": "bbb03440",
   "metadata": {},
   "outputs": [],
   "source": [
    "def faiza(*faiza):#*args arbitrary arguments\n",
    "    return (\"Faiza ke dost ka naam hai:\"+faiza[1]+\" and \"+faiza[0]+str(faiza[4]))\n",
    "v=faiza(\"ANUKRITI\",\"DURGESH\",1,2,3,4,5)\n",
    "print(v)"
   ]
  },
  {
   "cell_type": "code",
   "execution_count": 41,
   "id": "c60caf6f",
   "metadata": {},
   "outputs": [
    {
     "name": "stdout",
     "output_type": "stream",
     "text": [
      "Faiza ke dost ka naam hai:DURGESH and ANUKRITI3\n"
     ]
    }
   ],
   "source": []
  },
  {
   "cell_type": "code",
   "execution_count": 42,
   "id": "78f5d9a3",
   "metadata": {},
   "outputs": [],
   "source": [
    "########recu#########"
   ]
  },
  {
   "cell_type": "code",
   "execution_count": 1,
   "id": "5b96a01d",
   "metadata": {
    "scrolled": true
   },
   "outputs": [
    {
     "name": "stdout",
     "output_type": "stream",
     "text": [
      "7\n",
      "6\n",
      "5\n"
     ]
    }
   ],
   "source": [
    "def dur(n):#base case \n",
    "    if(n>4):\n",
    "        print(n)\n",
    "        #dur(n)\n",
    "        n=n-1\n",
    "        dur(n)\n",
    "dur(7)"
   ]
  },
  {
   "cell_type": "code",
   "execution_count": 13,
   "id": "672e33a3",
   "metadata": {},
   "outputs": [
    {
     "name": "stdout",
     "output_type": "stream",
     "text": [
      "h \n",
      "\n",
      "h s \n",
      "\n",
      "h s e \n",
      "\n",
      "h s e g \n",
      "\n",
      "h s e g r \n",
      "\n",
      "h s e g r u \n",
      "\n",
      "h s e g r u D \n",
      "\n"
     ]
    }
   ],
   "source": [
    "arr = 'Durgesh'\n",
    "l=arr[::-1]\n",
    "for i in range(len(l)):\n",
    "    for j in range(i+1):\n",
    "        print(l[j], end=' ')\n",
    "    print('\\n')"
   ]
  },
  {
   "cell_type": "code",
   "execution_count": 22,
   "id": "235120cc",
   "metadata": {},
   "outputs": [
    {
     "name": "stdout",
     "output_type": "stream",
     "text": [
      "['D', 'u', 'r', 'g', 'e', 's', 'h']\n"
     ]
    }
   ],
   "source": [
    "k=list(arr)\n",
    "print(k)\n",
    "k.reverse()"
   ]
  },
  {
   "cell_type": "code",
   "execution_count": 20,
   "id": "48dd7224",
   "metadata": {},
   "outputs": [
    {
     "name": "stdout",
     "output_type": "stream",
     "text": [
      "Help on class list in module builtins:\n",
      "\n",
      "class list(object)\n",
      " |  list() -> new empty list\n",
      " |  list(iterable) -> new list initialized from iterable's items\n",
      " |  \n",
      " |  Methods defined here:\n",
      " |  \n",
      " |  __add__(self, value, /)\n",
      " |      Return self+value.\n",
      " |  \n",
      " |  __contains__(self, key, /)\n",
      " |      Return key in self.\n",
      " |  \n",
      " |  __delitem__(self, key, /)\n",
      " |      Delete self[key].\n",
      " |  \n",
      " |  __eq__(self, value, /)\n",
      " |      Return self==value.\n",
      " |  \n",
      " |  __ge__(self, value, /)\n",
      " |      Return self>=value.\n",
      " |  \n",
      " |  __getattribute__(self, name, /)\n",
      " |      Return getattr(self, name).\n",
      " |  \n",
      " |  __getitem__(...)\n",
      " |      x.__getitem__(y) <==> x[y]\n",
      " |  \n",
      " |  __gt__(self, value, /)\n",
      " |      Return self>value.\n",
      " |  \n",
      " |  __iadd__(self, value, /)\n",
      " |      Implement self+=value.\n",
      " |  \n",
      " |  __imul__(self, value, /)\n",
      " |      Implement self*=value.\n",
      " |  \n",
      " |  __init__(self, /, *args, **kwargs)\n",
      " |      Initialize self.  See help(type(self)) for accurate signature.\n",
      " |  \n",
      " |  __iter__(self, /)\n",
      " |      Implement iter(self).\n",
      " |  \n",
      " |  __le__(self, value, /)\n",
      " |      Return self<=value.\n",
      " |  \n",
      " |  __len__(self, /)\n",
      " |      Return len(self).\n",
      " |  \n",
      " |  __lt__(self, value, /)\n",
      " |      Return self<value.\n",
      " |  \n",
      " |  __mul__(self, value, /)\n",
      " |      Return self*value.\n",
      " |  \n",
      " |  __ne__(self, value, /)\n",
      " |      Return self!=value.\n",
      " |  \n",
      " |  __new__(*args, **kwargs) from builtins.type\n",
      " |      Create and return a new object.  See help(type) for accurate signature.\n",
      " |  \n",
      " |  __repr__(self, /)\n",
      " |      Return repr(self).\n",
      " |  \n",
      " |  __reversed__(...)\n",
      " |      L.__reversed__() -- return a reverse iterator over the list\n",
      " |  \n",
      " |  __rmul__(self, value, /)\n",
      " |      Return value*self.\n",
      " |  \n",
      " |  __setitem__(self, key, value, /)\n",
      " |      Set self[key] to value.\n",
      " |  \n",
      " |  __sizeof__(...)\n",
      " |      L.__sizeof__() -- size of L in memory, in bytes\n",
      " |  \n",
      " |  append(...)\n",
      " |      L.append(object) -> None -- append object to end\n",
      " |  \n",
      " |  clear(...)\n",
      " |      L.clear() -> None -- remove all items from L\n",
      " |  \n",
      " |  copy(...)\n",
      " |      L.copy() -> list -- a shallow copy of L\n",
      " |  \n",
      " |  count(...)\n",
      " |      L.count(value) -> integer -- return number of occurrences of value\n",
      " |  \n",
      " |  extend(...)\n",
      " |      L.extend(iterable) -> None -- extend list by appending elements from the iterable\n",
      " |  \n",
      " |  index(...)\n",
      " |      L.index(value, [start, [stop]]) -> integer -- return first index of value.\n",
      " |      Raises ValueError if the value is not present.\n",
      " |  \n",
      " |  insert(...)\n",
      " |      L.insert(index, object) -- insert object before index\n",
      " |  \n",
      " |  pop(...)\n",
      " |      L.pop([index]) -> item -- remove and return item at index (default last).\n",
      " |      Raises IndexError if list is empty or index is out of range.\n",
      " |  \n",
      " |  remove(...)\n",
      " |      L.remove(value) -> None -- remove first occurrence of value.\n",
      " |      Raises ValueError if the value is not present.\n",
      " |  \n",
      " |  reverse(...)\n",
      " |      L.reverse() -- reverse *IN PLACE*\n",
      " |  \n",
      " |  sort(...)\n",
      " |      L.sort(key=None, reverse=False) -> None -- stable sort *IN PLACE*\n",
      " |  \n",
      " |  ----------------------------------------------------------------------\n",
      " |  Data and other attributes defined here:\n",
      " |  \n",
      " |  __hash__ = None\n",
      "\n"
     ]
    }
   ],
   "source": []
  },
  {
   "cell_type": "code",
   "execution_count": null,
   "id": "d3f16221",
   "metadata": {},
   "outputs": [],
   "source": []
  },
  {
   "cell_type": "code",
   "execution_count": 14,
   "id": "5afcd400",
   "metadata": {},
   "outputs": [
    {
     "name": "stdout",
     "output_type": "stream",
     "text": [
      "5 3 0\n",
      "Faiza is 5 and 3\n",
      "0.416667\n",
      "0.250000\n",
      "0.000000\n"
     ]
    }
   ],
   "source": [
    "a=[1,2,3,4,5,-1,-2,-3,0,0,0,0]\n",
    "c1=0\n",
    "c2=0\n",
    "c3=0\n",
    "n=len(a)\n",
    "for i in range(n):\n",
    "    if(a[i]>0):\n",
    "        c1+=1\n",
    "    elif(a[i]<0):\n",
    "        c2+=1\n",
    "    else:\n",
    "        c3+=0\n",
    "print(c1,c2,c3)\n",
    "print(f\"Faiza is {c1} and {c2}\")\n",
    "print(\"{:6f}\".format(c1/n))\n",
    "print(\"{:6f}\".format(c2/n))\n",
    "print(\"{:6f}\".format(c3/n))"
   ]
  },
  {
   "cell_type": "code",
   "execution_count": 23,
   "id": "bbab6927",
   "metadata": {},
   "outputs": [
    {
     "name": "stdout",
     "output_type": "stream",
     "text": [
      "Durgesh 5 and 3 and 0\n"
     ]
    }
   ],
   "source": [
    "print(\"Durgesh {} and {} and {}\".format(c1,c2,c3))"
   ]
  },
  {
   "cell_type": "code",
   "execution_count": 24,
   "id": "db53cb62",
   "metadata": {},
   "outputs": [
    {
     "name": "stdout",
     "output_type": "stream",
     "text": [
      "Durgesh 5 and 3 and 0\n"
     ]
    }
   ],
   "source": [
    "print(\"Durgesh\",c1,\"and\",c2,\"and\",c3)"
   ]
  },
  {
   "cell_type": "code",
   "execution_count": 25,
   "id": "4cba88b1",
   "metadata": {},
   "outputs": [],
   "source": [
    "# find the power of any number using recurr."
   ]
  },
  {
   "cell_type": "code",
   "execution_count": 26,
   "id": "cb7eba8e",
   "metadata": {},
   "outputs": [],
   "source": [
    "####modules"
   ]
  },
  {
   "cell_type": "code",
   "execution_count": 27,
   "id": "9348fcfb",
   "metadata": {},
   "outputs": [],
   "source": [
    "#include<stdio.h>.obj .exe .h .cd\n",
    " "
   ]
  },
  {
   "cell_type": "code",
   "execution_count": 41,
   "id": "efdd1995",
   "metadata": {},
   "outputs": [],
   "source": [
    "from numpy import array as ar#numpy.array ->ar"
   ]
  },
  {
   "cell_type": "code",
   "execution_count": 42,
   "id": "9d8d5406",
   "metadata": {},
   "outputs": [],
   "source": [
    "a=ar([[0,2,3,4],[2,3,4,5]])"
   ]
  },
  {
   "cell_type": "code",
   "execution_count": 43,
   "id": "c50f2f56",
   "metadata": {},
   "outputs": [
    {
     "data": {
      "text/plain": [
       "array([[0, 2, 3, 4],\n",
       "       [2, 3, 4, 5]])"
      ]
     },
     "execution_count": 43,
     "metadata": {},
     "output_type": "execute_result"
    }
   ],
   "source": [
    "a"
   ]
  },
  {
   "cell_type": "code",
   "execution_count": 44,
   "id": "3cd1dcb5",
   "metadata": {},
   "outputs": [
    {
     "data": {
      "text/plain": [
       "5"
      ]
     },
     "execution_count": 44,
     "metadata": {},
     "output_type": "execute_result"
    }
   ],
   "source": [
    "a[1][3]"
   ]
  },
  {
   "cell_type": "code",
   "execution_count": 45,
   "id": "f310076d",
   "metadata": {},
   "outputs": [],
   "source": [
    "import pandas as pd"
   ]
  },
  {
   "cell_type": "code",
   "execution_count": 46,
   "id": "3903618c",
   "metadata": {},
   "outputs": [],
   "source": [
    "import json"
   ]
  },
  {
   "cell_type": "code",
   "execution_count": 48,
   "id": "0f21704f",
   "metadata": {},
   "outputs": [],
   "source": [
    "import tensorflow as tf"
   ]
  },
  {
   "cell_type": "code",
   "execution_count": 50,
   "id": "ed6163dd",
   "metadata": {},
   "outputs": [],
   "source": [
    "import math,json"
   ]
  },
  {
   "cell_type": "code",
   "execution_count": 1,
   "id": "5822db74",
   "metadata": {},
   "outputs": [
    {
     "ename": "NameError",
     "evalue": "name 'char' is not defined",
     "output_type": "error",
     "traceback": [
      "\u001b[1;31m---------------------------------------------------------------------------\u001b[0m",
      "\u001b[1;31mNameError\u001b[0m                                 Traceback (most recent call last)",
      "\u001b[1;32m<ipython-input-1-877b13149f3c>\u001b[0m in \u001b[0;36m<module>\u001b[1;34m\u001b[0m\n\u001b[1;32m----> 1\u001b[1;33m \u001b[0mchar\u001b[0m\u001b[1;33m(\u001b[0m\u001b[1;36m65\u001b[0m\u001b[1;33m)\u001b[0m\u001b[1;33m\u001b[0m\u001b[1;33m\u001b[0m\u001b[0m\n\u001b[0m",
      "\u001b[1;31mNameError\u001b[0m: name 'char' is not defined"
     ]
    }
   ],
   "source": [
    "char(65)"
   ]
  },
  {
   "cell_type": "code",
   "execution_count": 2,
   "id": "664debc3",
   "metadata": {},
   "outputs": [
    {
     "data": {
      "text/plain": [
       "'A'"
      ]
     },
     "execution_count": 2,
     "metadata": {},
     "output_type": "execute_result"
    }
   ],
   "source": [
    "chr(65)"
   ]
  },
  {
   "cell_type": "code",
   "execution_count": 3,
   "id": "0a940ec4",
   "metadata": {},
   "outputs": [
    {
     "ename": "SyntaxError",
     "evalue": "invalid syntax (<ipython-input-3-a36ecd46183e>, line 2)",
     "output_type": "error",
     "traceback": [
      "\u001b[1;36m  File \u001b[1;32m\"<ipython-input-3-a36ecd46183e>\"\u001b[1;36m, line \u001b[1;32m2\u001b[0m\n\u001b[1;33m    A B\u001b[0m\n\u001b[1;37m      ^\u001b[0m\n\u001b[1;31mSyntaxError\u001b[0m\u001b[1;31m:\u001b[0m invalid syntax\n"
     ]
    }
   ],
   "source": [
    "A\n",
    "A B\n",
    "A B C\n",
    "A B C D"
   ]
  },
  {
   "cell_type": "code",
   "execution_count": null,
   "id": "e3fc3a16",
   "metadata": {},
   "outputs": [],
   "source": []
  },
  {
   "cell_type": "code",
   "execution_count": null,
   "id": "b97b00fe",
   "metadata": {},
   "outputs": [],
   "source": []
  },
  {
   "cell_type": "code",
   "execution_count": null,
   "id": "9ad6d178",
   "metadata": {},
   "outputs": [],
   "source": []
  },
  {
   "cell_type": "code",
   "execution_count": null,
   "id": "e1853a32",
   "metadata": {},
   "outputs": [],
   "source": []
  },
  {
   "cell_type": "code",
   "execution_count": null,
   "id": "58e7b29b",
   "metadata": {},
   "outputs": [],
   "source": []
  },
  {
   "cell_type": "code",
   "execution_count": null,
   "id": "97cfb33f",
   "metadata": {},
   "outputs": [],
   "source": []
  },
  {
   "cell_type": "code",
   "execution_count": 5,
   "id": "adc7e2b6",
   "metadata": {},
   "outputs": [
    {
     "name": "stdout",
     "output_type": "stream",
     "text": [
      "1.4 35.6\n"
     ]
    }
   ],
   "source": [
    "a=[10,13,15,46]\n",
    "count=0\n",
    "c=\"\"\n",
    "for i in a:\n",
    "    b=i%10\n",
    "    c+=str(b)\n",
    "    count+=b\n",
    "print(count/10,int(c)/10)"
   ]
  },
  {
   "cell_type": "code",
   "execution_count": 6,
   "id": "701c84df",
   "metadata": {},
   "outputs": [
    {
     "ename": "TypeError",
     "evalue": "can't multiply sequence by non-int of type 'list'",
     "output_type": "error",
     "traceback": [
      "\u001b[1;31m---------------------------------------------------------------------------\u001b[0m",
      "\u001b[1;31mTypeError\u001b[0m                                 Traceback (most recent call last)",
      "\u001b[1;32m<ipython-input-6-e9feac8d4f03>\u001b[0m in \u001b[0;36m<module>\u001b[1;34m\u001b[0m\n\u001b[0;32m      1\u001b[0m \u001b[0ma\u001b[0m\u001b[1;33m=\u001b[0m\u001b[1;33m[\u001b[0m\u001b[1;36m1\u001b[0m\u001b[1;33m,\u001b[0m\u001b[1;36m2\u001b[0m\u001b[1;33m,\u001b[0m\u001b[1;36m3\u001b[0m\u001b[1;33m]\u001b[0m\u001b[1;33m\u001b[0m\u001b[1;33m\u001b[0m\u001b[0m\n\u001b[0;32m      2\u001b[0m \u001b[0mb\u001b[0m\u001b[1;33m=\u001b[0m\u001b[1;33m[\u001b[0m\u001b[1;36m4\u001b[0m\u001b[1;33m,\u001b[0m\u001b[1;36m5\u001b[0m\u001b[1;33m,\u001b[0m\u001b[1;36m6\u001b[0m\u001b[1;33m]\u001b[0m\u001b[1;33m\u001b[0m\u001b[1;33m\u001b[0m\u001b[0m\n\u001b[1;32m----> 3\u001b[1;33m \u001b[0mc\u001b[0m\u001b[1;33m=\u001b[0m\u001b[0ma\u001b[0m\u001b[1;33m*\u001b[0m\u001b[0mb\u001b[0m\u001b[1;33m\u001b[0m\u001b[1;33m\u001b[0m\u001b[0m\n\u001b[0m\u001b[0;32m      4\u001b[0m \u001b[0mc\u001b[0m\u001b[1;33m\u001b[0m\u001b[1;33m\u001b[0m\u001b[0m\n",
      "\u001b[1;31mTypeError\u001b[0m: can't multiply sequence by non-int of type 'list'"
     ]
    }
   ],
   "source": [
    "a=[1,2,3,6]#2*3=6 len(a)-2\n",
    "b=[4,5,6] 2\n",
    "even*even=even\n",
    "odd*even=even\n",
    "odd*odd=odd\n",
    "1*4=even\n",
    "1*5=odd\n",
    "1*6=even\n",
    "2*4=even\n",
    "2*5=even\n",
    "2*6=even\n",
    "3*4=even\n",
    "3*5=odd\n",
    "3*6=even\n",
    "6*4=even\n",
    "6*5=even\n",
    "6*6=even"
   ]
  },
  {
   "cell_type": "code",
   "execution_count": 7,
   "id": "748bc003",
   "metadata": {},
   "outputs": [],
   "source": []
  },
  {
   "cell_type": "code",
   "execution_count": 9,
   "id": "0bec9608",
   "metadata": {},
   "outputs": [
    {
     "name": "stdout",
     "output_type": "stream",
     "text": [
      "10\n"
     ]
    }
   ],
   "source": [
    "a=[1,2,3,6]#2*3=6 len(a)-2\n",
    "b=[4,5,6]\n",
    "count=0\n",
    "count1=0\n",
    "count2=0\n",
    "for i in a:\n",
    "    if(i%2==0):\n",
    "        count+=1\n",
    "count2+=count*len(b)\n",
    "for i in b:\n",
    "    if(i%2==0):\n",
    "        count1+=1\n",
    "count2+=odd*count1\n",
    "print(count2)"
   ]
  },
  {
   "cell_type": "code",
   "execution_count": 10,
   "id": "8e35c62e",
   "metadata": {},
   "outputs": [
    {
     "data": {
      "text/plain": [
       "'a'"
      ]
     },
     "execution_count": 10,
     "metadata": {},
     "output_type": "execute_result"
    }
   ],
   "source": [
    "a=\"abcdefghijklmnopqrstuvwxyz\"\n",
    "a[0]"
   ]
  },
  {
   "cell_type": "code",
   "execution_count": 13,
   "id": "6d5912e1",
   "metadata": {},
   "outputs": [
    {
     "name": "stdout",
     "output_type": "stream",
     "text": [
      "abcsdfgfhnmxcvbnmnbdfhxyz\n",
      "10\n"
     ]
    }
   ],
   "source": [
    "a=\"abcdefghijklmnopqrstuvwxyz\"\n",
    "u=a.upper()\n",
    "s=input()\n",
    "count=0\n",
    "for i in s:\n",
    "    if(i.islower()):\n",
    "        if(s.index(i)==a.index(i)):\n",
    "            count+=1\n",
    "    else:\n",
    "         if(s.index(i)==u.index(i)):\n",
    "            count+=1\n",
    "print(count)"
   ]
  },
  {
   "cell_type": "code",
   "execution_count": 19,
   "id": "93a8a1fc",
   "metadata": {},
   "outputs": [
    {
     "name": "stdout",
     "output_type": "stream",
     "text": [
      "acij\n"
     ]
    }
   ],
   "source": [
    "s=\"abcdefghijklmnopqrstuvwxyz\"\n",
    "a=\"zbhi\"\n",
    "b=\"\"\n",
    "for i in a:\n",
    "    k=s.index(i)\n",
    "    if(k==len(s)-1):\n",
    "        k=0\n",
    "        b=b+s[k]#s[14]=b\n",
    "    else:\n",
    "        b=b+s[k+1]\n",
    "print(b)"
   ]
  },
  {
   "cell_type": "code",
   "execution_count": 17,
   "id": "170b38ed",
   "metadata": {},
   "outputs": [
    {
     "data": {
      "text/plain": [
       "'b'"
      ]
     },
     "execution_count": 17,
     "metadata": {},
     "output_type": "execute_result"
    }
   ],
   "source": [
    "b=\"\"+\"b\"\n",
    "b"
   ]
  },
  {
   "cell_type": "markdown",
   "id": "84c608f5",
   "metadata": {},
   "source": [
    "modules\n",
    "two types:\n",
    "predefine e.g. numpy,pandas, tf, json,date,math,csv,cpp,cv\n",
    "userdefine e.g akm.py,faiza.py,durgesh.py"
   ]
  },
  {
   "cell_type": "code",
   "execution_count": null,
   "id": "fb3d0eb8",
   "metadata": {},
   "outputs": [],
   "source": [
    "import time\n",
    "time.sleep(10)\n",
    "n = int(input(\"Enter the number: \"))\n",
    "copy = n\n",
    "flag = 1\n",
    "s=[2,3,5]\n",
    "j=0\n",
    "while(copy>1):\n",
    "        if copy % s[j] == 0:\n",
    "            copy //= s[j]\n",
    "        else:\n",
    "            j+=1\n",
    "        if(j==len(s) and copy>2):\n",
    "            flag=0\n",
    "            break\n",
    "if (flag == 0 or n == 0):\n",
    "    print(n, \" is not an ugly number\")\n",
    "else:\n",
    "    print(n, \" is an ugly number\")"
   ]
  },
  {
   "cell_type": "code",
   "execution_count": 1,
   "id": "f3e29aed",
   "metadata": {},
   "outputs": [],
   "source": [
    "#########time########"
   ]
  },
  {
   "cell_type": "code",
   "execution_count": null,
   "id": "4b7d76d8",
   "metadata": {},
   "outputs": [],
   "source": [
    "s=input()\n",
    "b=\"\"\n",
    "#hh:mm:ssAM\n",
    "#hh:mm:ssPM\n",
    "#0123456789\n",
    "if(s[8]==\"A\"):\n",
    "    if(int(s[0:2])==12):\n",
    "        b+=\"00\"\n",
    "else:\n",
    "    if(int(s[0:2])<12):\n",
    "        b+=str(int(s[0:2])+12)\n",
    "b=b+s[2:10]\n",
    "print(b)\n",
    "    "
   ]
  },
  {
   "cell_type": "code",
   "execution_count": null,
   "id": "90348724",
   "metadata": {},
   "outputs": [],
   "source": [
    "import matplotlib.pyplot as plt"
   ]
  },
  {
   "cell_type": "code",
   "execution_count": null,
   "id": "9eade5dd",
   "metadata": {},
   "outputs": [],
   "source": []
  }
 ],
 "metadata": {
  "kernelspec": {
   "display_name": "Python 3",
   "language": "python",
   "name": "python3"
  },
  "language_info": {
   "codemirror_mode": {
    "name": "ipython",
    "version": 3
   },
   "file_extension": ".py",
   "mimetype": "text/x-python",
   "name": "python",
   "nbconvert_exporter": "python",
   "pygments_lexer": "ipython3",
   "version": "3.6.8"
  }
 },
 "nbformat": 4,
 "nbformat_minor": 5
}
