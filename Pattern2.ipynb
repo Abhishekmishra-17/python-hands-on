{
 "cells": [
  {
   "cell_type": "code",
   "execution_count": null,
   "id": "1e8812df",
   "metadata": {},
   "outputs": [],
   "source": [
    "   1\n",
    "  121\n",
    " 12321\n",
    "1234321\n",
    "#pascel triangle"
   ]
  },
  {
   "cell_type": "code",
   "execution_count": 11,
   "id": "b0e70236",
   "metadata": {},
   "outputs": [
    {
     "name": "stdout",
     "output_type": "stream",
     "text": [
      "  1\n",
      " 121\n",
      "12321\n"
     ]
    }
   ],
   "source": [
    "for i in range(4):\n",
    "    for j in range(3,i,-1):\n",
    "        print(\" \",end=\"\")\n",
    "    for k in range(i-1,-i,-1):#i=1 (0,-1,-1)\n",
    "        print(i-abs(k),end=\"\")\n",
    "    print()"
   ]
  },
  {
   "cell_type": "code",
   "execution_count": 16,
   "id": "f573a6ca",
   "metadata": {},
   "outputs": [
    {
     "name": "stdout",
     "output_type": "stream",
     "text": [
      "1\n",
      "8\n"
     ]
    }
   ],
   "source": [
    "a=[1,2,3,4,5,6,7,8]\n",
    "for i in range(0,-2,-1): for(i=0;i<-2,i--) \n",
    "    print(a[i])\n",
    "            "
   ]
  },
  {
   "cell_type": "code",
   "execution_count": 17,
   "id": "ea200177",
   "metadata": {},
   "outputs": [
    {
     "ename": "SyntaxError",
     "evalue": "invalid syntax (<ipython-input-17-61d08b49e6d6>, line 1)",
     "output_type": "error",
     "traceback": [
      "\u001b[1;36m  File \u001b[1;32m\"<ipython-input-17-61d08b49e6d6>\"\u001b[1;36m, line \u001b[1;32m1\u001b[0m\n\u001b[1;33m    1 11 111\u001b[0m\n\u001b[1;37m       ^\u001b[0m\n\u001b[1;31mSyntaxError\u001b[0m\u001b[1;31m:\u001b[0m invalid syntax\n"
     ]
    }
   ],
   "source": [
    "1 11 111\n",
    "11 111 1111\n",
    "111 1111 11111"
   ]
  },
  {
   "cell_type": "code",
   "execution_count": 30,
   "id": "a232d0d6",
   "metadata": {},
   "outputs": [
    {
     "data": {
      "text/plain": [
       "'11'"
      ]
     },
     "execution_count": 30,
     "metadata": {},
     "output_type": "execute_result"
    }
   ],
   "source": [
    "i=\"1\"\n",
    "i*1+i"
   ]
  },
  {
   "cell_type": "code",
   "execution_count": 26,
   "id": "0956dfa8",
   "metadata": {},
   "outputs": [
    {
     "name": "stdout",
     "output_type": "stream",
     "text": [
      "1    11    111    \n",
      "11    111    1111    \n",
      "111    1111    11111    \n"
     ]
    }
   ],
   "source": [
    "k = '1'\n",
    "for i in range(1,4):\n",
    "    for j in range(3):\n",
    "        c=k*i+k*j\n",
    "        print(c, end='    ')\n",
    "    print()"
   ]
  },
  {
   "cell_type": "code",
   "execution_count": 31,
   "id": "0702c7df",
   "metadata": {},
   "outputs": [
    {
     "ename": "SyntaxError",
     "evalue": "invalid syntax (<ipython-input-31-4b87f412fbef>, line 1)",
     "output_type": "error",
     "traceback": [
      "\u001b[1;36m  File \u001b[1;32m\"<ipython-input-31-4b87f412fbef>\"\u001b[1;36m, line \u001b[1;32m1\u001b[0m\n\u001b[1;33m    2 3 5 7 11\u001b[0m\n\u001b[1;37m      ^\u001b[0m\n\u001b[1;31mSyntaxError\u001b[0m\u001b[1;31m:\u001b[0m invalid syntax\n"
     ]
    }
   ],
   "source": [
    "2 3 5 7 11\n",
    "13 17 19 23 29\n",
    "31 37 41 43 47\n",
    "53 59 61 67 71\n",
    "73 79 83 89 97"
   ]
  },
  {
   "cell_type": "code",
   "execution_count": 39,
   "id": "2d79730b",
   "metadata": {},
   "outputs": [
    {
     "name": "stdout",
     "output_type": "stream",
     "text": [
      "Enter the number: 100\n",
      "2 13 31 53 73 \n",
      "3 17 37 59 79 \n",
      "5 19 41 61 83 \n",
      "7 23 43 67 89 \n",
      "11 29 47 71 97 \n"
     ]
    }
   ],
   "source": [
    "number=int(input(\"Enter the number: \"))\n",
    "l=[]\n",
    "while(number>1):\n",
    "    for i in range(2, number):\n",
    "        if (number%i==0):\n",
    "            break\n",
    "    else:\n",
    "      l.append(number)\n",
    "    number-=1\n",
    "l.reverse()\n",
    "for i in range(5):\n",
    "    for j in range(5):\n",
    "        c=i+j*5\n",
    "        print(l[c],end=\" \")\n",
    "    print()"
   ]
  },
  {
   "cell_type": "code",
   "execution_count": 40,
   "id": "fbea3aad",
   "metadata": {},
   "outputs": [],
   "source": [
    "#####swaping of two number#####"
   ]
  },
  {
   "cell_type": "code",
   "execution_count": 51,
   "id": "3cf04193",
   "metadata": {},
   "outputs": [
    {
     "name": "stdout",
     "output_type": "stream",
     "text": [
      "enter a number:11\n",
      "11 not spy number\n"
     ]
    }
   ],
   "source": [
    "n=int(input(\"enter a number:\"))\n",
    "s=list(str(n))\n",
    "v=int(n)\n",
    "a=0\n",
    "b=1\n",
    "for i in s:\n",
    "    a+=int(i)\n",
    "    b*=int(i)\n",
    "if(a==b):\n",
    "    print(n,\"spy number\")\n",
    "else:\n",
    "    print(n,\"not spy number\")\n"
   ]
  },
  {
   "cell_type": "code",
   "execution_count": 53,
   "id": "b86ce6f4",
   "metadata": {},
   "outputs": [
    {
     "data": {
      "text/plain": [
       "'aba'"
      ]
     },
     "execution_count": 53,
     "metadata": {},
     "output_type": "execute_result"
    }
   ],
   "source": [
    "a=\"Aba\"\n",
    "c=a.lower()\n",
    "c"
   ]
  },
  {
   "cell_type": "code",
   "execution_count": null,
   "id": "089f27fd",
   "metadata": {},
   "outputs": [],
   "source": []
  }
 ],
 "metadata": {
  "kernelspec": {
   "display_name": "Python 3",
   "language": "python",
   "name": "python3"
  },
  "language_info": {
   "codemirror_mode": {
    "name": "ipython",
    "version": 3
   },
   "file_extension": ".py",
   "mimetype": "text/x-python",
   "name": "python",
   "nbconvert_exporter": "python",
   "pygments_lexer": "ipython3",
   "version": "3.6.8"
  }
 },
 "nbformat": 4,
 "nbformat_minor": 5
}
